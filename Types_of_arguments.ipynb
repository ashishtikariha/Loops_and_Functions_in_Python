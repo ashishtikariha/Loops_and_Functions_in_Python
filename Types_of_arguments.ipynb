{
 "cells": [
  {
   "cell_type": "code",
   "execution_count": 4,
   "metadata": {},
   "outputs": [
    {
     "name": "stdout",
     "output_type": "stream",
     "text": [
      "['__add__', '__class__', '__contains__', '__delattr__', '__delitem__', '__dir__', '__doc__', '__eq__', '__format__', '__ge__', '__getattribute__', '__getitem__', '__gt__', '__hash__', '__iadd__', '__imul__', '__init__', '__init_subclass__', '__iter__', '__le__', '__len__', '__lt__', '__mul__', '__ne__', '__new__', '__reduce__', '__reduce_ex__', '__repr__', '__reversed__', '__rmul__', '__setattr__', '__setitem__', '__sizeof__', '__str__', '__subclasshook__', 'append', 'clear', 'copy', 'count', 'extend', 'index', 'insert', 'pop', 'remove', 'reverse', 'sort']\n",
      "---------------------------------------------------------------------------------\n",
      "['__add__', '__class__', '__contains__', '__delattr__', '__dir__', '__doc__', '__eq__', '__format__', '__ge__', '__getattribute__', '__getitem__', '__getnewargs__', '__gt__', '__hash__', '__init__', '__init_subclass__', '__iter__', '__le__', '__len__', '__lt__', '__mul__', '__ne__', '__new__', '__reduce__', '__reduce_ex__', '__repr__', '__rmul__', '__setattr__', '__sizeof__', '__str__', '__subclasshook__', 'count', 'index']\n",
      "---------------------------------------------------------------------------------\n",
      "['__add__', '__class__', '__contains__', '__delattr__', '__dir__', '__doc__', '__eq__', '__format__', '__ge__', '__getattribute__', '__getitem__', '__getnewargs__', '__gt__', '__hash__', '__init__', '__init_subclass__', '__iter__', '__le__', '__len__', '__lt__', '__mod__', '__mul__', '__ne__', '__new__', '__reduce__', '__reduce_ex__', '__repr__', '__rmod__', '__rmul__', '__setattr__', '__sizeof__', '__str__', '__subclasshook__', 'capitalize', 'casefold', 'center', 'count', 'encode', 'endswith', 'expandtabs', 'find', 'format', 'format_map', 'index', 'isalnum', 'isalpha', 'isascii', 'isdecimal', 'isdigit', 'isidentifier', 'islower', 'isnumeric', 'isprintable', 'isspace', 'istitle', 'isupper', 'join', 'ljust', 'lower', 'lstrip', 'maketrans', 'partition', 'replace', 'rfind', 'rindex', 'rjust', 'rpartition', 'rsplit', 'rstrip', 'split', 'splitlines', 'startswith', 'strip', 'swapcase', 'title', 'translate', 'upper', 'zfill']\n",
      "---------------------------------------------------------------------------------\n",
      "['__class__', '__contains__', '__delattr__', '__delitem__', '__dir__', '__doc__', '__eq__', '__format__', '__ge__', '__getattribute__', '__getitem__', '__gt__', '__hash__', '__init__', '__init_subclass__', '__iter__', '__le__', '__len__', '__lt__', '__ne__', '__new__', '__reduce__', '__reduce_ex__', '__repr__', '__reversed__', '__setattr__', '__setitem__', '__sizeof__', '__str__', '__subclasshook__', 'clear', 'copy', 'fromkeys', 'get', 'items', 'keys', 'pop', 'popitem', 'setdefault', 'update', 'values']\n",
      "---------------------------------------------------------------------------------\n",
      "['__abs__', '__add__', '__and__', '__bool__', '__ceil__', '__class__', '__delattr__', '__dir__', '__divmod__', '__doc__', '__eq__', '__float__', '__floor__', '__floordiv__', '__format__', '__ge__', '__getattribute__', '__getnewargs__', '__gt__', '__hash__', '__index__', '__init__', '__init_subclass__', '__int__', '__invert__', '__le__', '__lshift__', '__lt__', '__mod__', '__mul__', '__ne__', '__neg__', '__new__', '__or__', '__pos__', '__pow__', '__radd__', '__rand__', '__rdivmod__', '__reduce__', '__reduce_ex__', '__repr__', '__rfloordiv__', '__rlshift__', '__rmod__', '__rmul__', '__ror__', '__round__', '__rpow__', '__rrshift__', '__rshift__', '__rsub__', '__rtruediv__', '__rxor__', '__setattr__', '__sizeof__', '__str__', '__sub__', '__subclasshook__', '__truediv__', '__trunc__', '__xor__', 'as_integer_ratio', 'bit_length', 'conjugate', 'denominator', 'from_bytes', 'imag', 'numerator', 'real', 'to_bytes']\n"
     ]
    }
   ],
   "source": [
    "# How to check if any object is iterable or not ?\n",
    "# On directory it will have __iter__ present\n",
    "\n",
    "lst1=[1,2,3,4]\n",
    "tup1=(1,)\n",
    "str1='edeffe'\n",
    "dict1={'a':1}\n",
    "a=1\n",
    "print(dir(lst1))                    #Yes\n",
    "print('---------------------------------------------------------------------------------')\n",
    "print(dir(tup1))                    #Yes\n",
    "print('---------------------------------------------------------------------------------')\n",
    "print(dir(str1))                    #Yes\n",
    "print('---------------------------------------------------------------------------------')\n",
    "print(dir(dict1))                   #Yes\n",
    "print('---------------------------------------------------------------------------------')\n",
    "print(dir(a))                       #No"
   ]
  },
  {
   "cell_type": "markdown",
   "metadata": {},
   "source": [
    "## Why While loop ?\n",
    "\n",
    "### When number of iterations are not known.   \n",
    "### If we want loop to run based on some condition.   "
   ]
  },
  {
   "cell_type": "markdown",
   "metadata": {},
   "source": [
    "# http://pythontutor.com/visualize.html#mode=edit\n",
    "\n",
    "### It helps to visualise the code step by step\n",
    "\n",
    "### i++ & i-- dont work in python"
   ]
  },
  {
   "cell_type": "code",
   "execution_count": 9,
   "metadata": {},
   "outputs": [
    {
     "name": "stdout",
     "output_type": "stream",
     "text": [
      "p\n",
      "yy\n",
      "ttt\n",
      "hhhh\n",
      "ooooo\n",
      "nnnnnn\n"
     ]
    }
   ],
   "source": [
    "str1='python'                       # Using for loop\n",
    "l=len(str1)\n",
    "for i in range(l):\n",
    "    print(str1[i]*(i+1))"
   ]
  },
  {
   "cell_type": "code",
   "execution_count": 11,
   "metadata": {},
   "outputs": [
    {
     "name": "stdout",
     "output_type": "stream",
     "text": [
      "p\n",
      "yy\n",
      "ttt\n",
      "hhhh\n",
      "ooooo\n",
      "nnnnnn\n"
     ]
    }
   ],
   "source": [
    "str1='python'                       # Using while loop\n",
    "i=0\n",
    "while i<len(str1):\n",
    "    print(str1[i]*(i+1))\n",
    "    i+=1"
   ]
  },
  {
   "cell_type": "code",
   "execution_count": 7,
   "metadata": {},
   "outputs": [
    {
     "name": "stdout",
     "output_type": "stream",
     "text": [
      "nnnnnn\n",
      "ooooo\n",
      "hhhh\n",
      "ttt\n",
      "yy\n",
      "p\n"
     ]
    }
   ],
   "source": [
    "# str1='python'\n",
    " \n",
    "# nnnnnn     ----->     str1[5]*6      Writing such formula helps you to write algorithm easily\n",
    "# ooooo      ----->     str1[4]*5\n",
    "# hhhh       ----->     str1[3]*4\n",
    "# ttt        ----->     str1[2]*3\n",
    "# yy         ----->     str1[1]*2\n",
    "# p          ----->     str1[0]*1\n",
    "\n",
    "str1='python'\n",
    "for i in range(1,len(str1)+1):\n",
    "    print(str1[len(str1)-i]*(len(str1)-(i-1)))\n"
   ]
  },
  {
   "cell_type": "code",
   "execution_count": 30,
   "metadata": {},
   "outputs": [
    {
     "name": "stdout",
     "output_type": "stream",
     "text": [
      "Not Palindrome\n"
     ]
    }
   ],
   "source": [
    "def Palindrome(str1):                  # Palindrome function\n",
    "    if str1==str1[::-1]:\n",
    "        print('Yes Palindrome')\n",
    "        \n",
    "    else:\n",
    "        print('Not Palindrome')\n",
    "        \n",
    "Palindrome('rAAJ')"
   ]
  },
  {
   "cell_type": "markdown",
   "metadata": {},
   "source": [
    "## Default arguments in a function"
   ]
  },
  {
   "cell_type": "code",
   "execution_count": 2,
   "metadata": {},
   "outputs": [
    {
     "name": "stdout",
     "output_type": "stream",
     "text": [
      "Ashish\n",
      "12400\n",
      "24\n",
      "banglore\n",
      "490009\n",
      "---------------------------\n",
      "Ashish\n",
      "12400\n",
      "24\n",
      "Bhilai\n",
      "490009\n",
      "---------------------------\n",
      "Ashish\n",
      "12400\n",
      "24\n",
      "Bhilai\n",
      "487676\n"
     ]
    }
   ],
   "source": [
    "def emp_data(emp_name, emp_sal , emp_age , emp_location = 'banglore',emp_pin = '490009'):\n",
    "    print(emp_name)\n",
    "    print(emp_sal)                        # name sal age are positional arguments\n",
    "    print(emp_age)                        # location pin are default argument\n",
    "    print(emp_location)                   # Defalut argument should always be given after positional arguments\n",
    "    print(emp_pin)\n",
    "\n",
    "                                                                  #order is important\n",
    "emp_data('Ashish','12400','24')\n",
    "print('---------------------------')\n",
    "emp_data('Ashish','12400','24','Bhilai')\n",
    "print('---------------------------')\n",
    "emp_data('Ashish','12400','24','Bhilai','487676')"
   ]
  },
  {
   "cell_type": "markdown",
   "metadata": {},
   "source": [
    "### Docstring for function : Multiline comment after function defination which can be seen with (Shift+Tab)\n",
    "\n",
    "#### Docstring is necessary bcoz the user should know what to do with the function....He wont be able to see the actual code"
   ]
  },
  {
   "cell_type": "code",
   "execution_count": 21,
   "metadata": {},
   "outputs": [
    {
     "name": "stdout",
     "output_type": "stream",
     "text": [
      "Ashish\n",
      "12400\n",
      "24\n",
      "banglore\n",
      "490009\n"
     ]
    }
   ],
   "source": [
    "def emp_data(emp_name , emp_sal , emp_age , emp_location = 'banglore',emp_pin = '490009'):\n",
    "    ''' Taking Employee details from user'''       #Docstring\n",
    "    print(emp_name)\n",
    "    print(emp_sal)                        \n",
    "    print(emp_age)                        \n",
    "    print(emp_location)                   \n",
    "    print(emp_pin)\n",
    "\n",
    "                                                                  \n",
    "emp_data('Ashish','12400','24')"
   ]
  },
  {
   "cell_type": "code",
   "execution_count": 22,
   "metadata": {},
   "outputs": [
    {
     "data": {
      "text/plain": [
       "' Taking Employee details from user'"
      ]
     },
     "execution_count": 22,
     "metadata": {},
     "output_type": "execute_result"
    }
   ],
   "source": [
    "emp_data.__doc__                        # One more way to see docstring\n",
    "                                        # <function name>.__doc__"
   ]
  },
  {
   "cell_type": "markdown",
   "metadata": {},
   "source": [
    "## Keyword argument\n",
    "\n",
    "## Keyworded arguments shoould be followed by non-keyworded arguments"
   ]
  },
  {
   "cell_type": "code",
   "execution_count": 24,
   "metadata": {},
   "outputs": [
    {
     "name": "stdout",
     "output_type": "stream",
     "text": [
      "Ashish\n",
      "12400\n",
      "24\n",
      "banglore\n",
      "490009\n"
     ]
    }
   ],
   "source": [
    "emp_data(emp_age='24',emp_name='Ashish',emp_sal='12400')          "
   ]
  },
  {
   "cell_type": "code",
   "execution_count": 25,
   "metadata": {},
   "outputs": [
    {
     "name": "stdout",
     "output_type": "stream",
     "text": [
      "Ashish\n",
      "12400\n",
      "24\n",
      "banglore\n",
      "500009\n"
     ]
    }
   ],
   "source": [
    "emp_data('Ashish','12400',emp_pin = '500009',emp_location = 'banglore',emp_age='24') "
   ]
  },
  {
   "cell_type": "markdown",
   "metadata": {},
   "source": [
    "# Variable length arguments\n",
    "\n",
    "*args - takes a varibale length postional args and stores in the tuple"
   ]
  },
  {
   "cell_type": "code",
   "execution_count": 26,
   "metadata": {},
   "outputs": [
    {
     "name": "stdout",
     "output_type": "stream",
     "text": [
      "('10k', '24', 'afsaan', 'goa')\n"
     ]
    }
   ],
   "source": [
    "def emp_data(*args):\n",
    "    print(args)\n",
    "    \n",
    "emp_data('10k' , '24','afsaan' , 'goa')"
   ]
  },
  {
   "cell_type": "code",
   "execution_count": 27,
   "metadata": {},
   "outputs": [
    {
     "name": "stdout",
     "output_type": "stream",
     "text": [
      "afsan\n",
      "10k\n",
      "24\n",
      "516282\n",
      "banglore\n",
      "()\n",
      "---------------------------------------------\n",
      "abc\n",
      "1\n",
      "2\n",
      "3\n",
      "4\n",
      "(5, 6, 7, 8, 9, 0)\n"
     ]
    }
   ],
   "source": [
    "# 1 - args athe the end\n",
    "def emp_data(emp_name , emp_sal , emp_age , emp_pin = '516282' , emp_location = 'banglore' , *args):\n",
    "    print(emp_name)\n",
    "    print(emp_sal)    \n",
    "    print(emp_age)\n",
    "    print(emp_pin)\n",
    "    print(emp_location)\n",
    "    print(args)\n",
    "    \n",
    "emp_data(emp_name = 'afsan' , emp_sal = '10k' , emp_age = '24')          # *args ----> empty tuple\n",
    "print('---------------------------------------------')\n",
    "emp_data('abc' , 1,2,3,4,5,6,7,8,9,0)"
   ]
  },
  {
   "cell_type": "code",
   "execution_count": 32,
   "metadata": {},
   "outputs": [
    {
     "name": "stdout",
     "output_type": "stream",
     "text": [
      "120\n",
      "1\n",
      "6\n",
      "48\n"
     ]
    }
   ],
   "source": [
    "def Multiply(*b):\n",
    "    m=1\n",
    "    for i in b:\n",
    "        m*=i\n",
    "    print(m) \n",
    "\n",
    "Multiply(1,2,3,4,5)\n",
    "Multiply(1)\n",
    "Multiply(1,2,3)\n",
    "Multiply(2,3,8)\n"
   ]
  },
  {
   "cell_type": "code",
   "execution_count": 4,
   "metadata": {},
   "outputs": [
    {
     "ename": "SyntaxError",
     "evalue": "positional argument follows keyword argument (<ipython-input-4-fb6b9c8dedb0>, line 12)",
     "output_type": "error",
     "traceback": [
      "\u001b[1;36m  File \u001b[1;32m\"<ipython-input-4-fb6b9c8dedb0>\"\u001b[1;36m, line \u001b[1;32m12\u001b[0m\n\u001b[1;33m    emp_data('abc' , 1,2,3,4,5,6,7,8,9,0 , emp_pin = '456456','bhilai')         # Understand the error\u001b[0m\n\u001b[1;37m                                                              ^\u001b[0m\n\u001b[1;31mSyntaxError\u001b[0m\u001b[1;31m:\u001b[0m positional argument follows keyword argument\n"
     ]
    }
   ],
   "source": [
    "# 2 - args before dafault\n",
    "def emp_data(emp_name , emp_sal , emp_age , *args,  emp_pin = '516282' , emp_location = 'banglore' ):\n",
    "    print(emp_name)\n",
    "    print(emp_sal)    \n",
    "    print(emp_age)\n",
    "    print(emp_pin)\n",
    "    print(emp_location)\n",
    "    print(args)\n",
    "\n",
    "emp_data('abc' , 1,2,3,4,5,6,7,8,9,0 , emp_pin = '456456', emp_location = 'bhilai')\n",
    "print('---------------------------------------------')\n",
    "emp_data('abc' , 1,2,3,4,5,6,7,8,9,0 , emp_pin = '456456','bhilai')         # Understand the error"
   ]
  },
  {
   "cell_type": "code",
   "execution_count": 35,
   "metadata": {},
   "outputs": [
    {
     "ename": "TypeError",
     "evalue": "emp_data() missing 3 required keyword-only arguments: 'emp_name', 'emp_sal', and 'emp_age'",
     "output_type": "error",
     "traceback": [
      "\u001b[1;31m---------------------------------------------------------------------------\u001b[0m",
      "\u001b[1;31mTypeError\u001b[0m                                 Traceback (most recent call last)",
      "\u001b[1;32m<ipython-input-35-d6b34f120ab9>\u001b[0m in \u001b[0;36m<module>\u001b[1;34m\u001b[0m\n\u001b[0;32m     10\u001b[0m \u001b[1;31m# emp_data(emp_name = 'afsan' , emp_sal = '10k' , emp_age = '24')\u001b[0m\u001b[1;33m\u001b[0m\u001b[1;33m\u001b[0m\u001b[1;33m\u001b[0m\u001b[0m\n\u001b[0;32m     11\u001b[0m \u001b[1;33m\u001b[0m\u001b[0m\n\u001b[1;32m---> 12\u001b[1;33m \u001b[0memp_data\u001b[0m\u001b[1;33m(\u001b[0m\u001b[1;34m'abc'\u001b[0m \u001b[1;33m,\u001b[0m \u001b[1;36m1\u001b[0m\u001b[1;33m,\u001b[0m\u001b[1;36m2\u001b[0m\u001b[1;33m,\u001b[0m\u001b[1;36m3\u001b[0m\u001b[1;33m,\u001b[0m\u001b[1;36m4\u001b[0m\u001b[1;33m,\u001b[0m\u001b[1;36m5\u001b[0m\u001b[1;33m,\u001b[0m\u001b[1;36m6\u001b[0m\u001b[1;33m,\u001b[0m\u001b[1;36m7\u001b[0m\u001b[1;33m,\u001b[0m\u001b[1;36m8\u001b[0m\u001b[1;33m,\u001b[0m\u001b[1;36m9\u001b[0m\u001b[1;33m,\u001b[0m\u001b[1;36m0\u001b[0m\u001b[1;33m)\u001b[0m\u001b[1;33m\u001b[0m\u001b[1;33m\u001b[0m\u001b[0m\n\u001b[0m",
      "\u001b[1;31mTypeError\u001b[0m: emp_data() missing 3 required keyword-only arguments: 'emp_name', 'emp_sal', and 'emp_age'"
     ]
    }
   ],
   "source": [
    "# 3 - args at start\n",
    "def emp_data(*args  , emp_name , emp_sal , emp_age ,  emp_pin = '516282' , emp_location = 'banglore' ):\n",
    "    print(emp_name)\n",
    "    print(emp_sal)    \n",
    "    print(emp_age)\n",
    "    print(emp_pin)\n",
    "    print(emp_location)\n",
    "    print(args)\n",
    "\n",
    "\n",
    "emp_data('abc' , 1,2,3,4,5,6,7,8,9,0)           # Everything goes to arg only"
   ]
  },
  {
   "cell_type": "code",
   "execution_count": 36,
   "metadata": {},
   "outputs": [
    {
     "name": "stdout",
     "output_type": "stream",
     "text": [
      "afsan\n",
      "10k\n",
      "24\n",
      "516282\n",
      "banglore\n",
      "('abc', 1, 2, 3, 4, 5, 6, 7, 8, 9, 0)\n"
     ]
    }
   ],
   "source": [
    "# 3 - args at start\n",
    "def emp_data(*args  , emp_name , emp_sal , emp_age ,  emp_pin = '516282' , emp_location = 'banglore' ):\n",
    "    print(emp_name)\n",
    "    print(emp_sal)    \n",
    "    print(emp_age)\n",
    "    print(emp_pin)\n",
    "    print(emp_location)\n",
    "    print(args)\n",
    "\n",
    "\n",
    "emp_data('abc' , 1,2,3,4,5,6,7,8,9,0 , emp_name = \"afsan\" , emp_sal = '10k' , emp_age = '24')"
   ]
  },
  {
   "cell_type": "markdown",
   "metadata": {},
   "source": [
    "## **kwargs - takes a variable keyword args and stores in the dictionary"
   ]
  },
  {
   "cell_type": "code",
   "execution_count": 5,
   "metadata": {},
   "outputs": [
    {
     "name": "stdout",
     "output_type": "stream",
     "text": [
      "agfsan\n",
      "1\n",
      "2\n",
      "3\n",
      "4\n",
      "{'abc': 5, 'xyz': 6, 'aaa': 7}\n"
     ]
    }
   ],
   "source": [
    "def emp_data(emp_name , emp_sal , emp_age ,  emp_pin = '516282' , emp_location = 'banglore', **x):\n",
    "    print(emp_name)\n",
    "    print(emp_sal)    \n",
    "    print(emp_age)\n",
    "    print(emp_pin)\n",
    "    print(emp_location)\n",
    "    print(x)\n",
    "\n",
    "emp_data('agfsan' , 1,2,3,4, abc = 5, xyz = 6, aaa = 7)"
   ]
  },
  {
   "cell_type": "code",
   "execution_count": null,
   "metadata": {},
   "outputs": [],
   "source": []
  }
 ],
 "metadata": {
  "kernelspec": {
   "display_name": "Python 3",
   "language": "python",
   "name": "python3"
  },
  "language_info": {
   "codemirror_mode": {
    "name": "ipython",
    "version": 3
   },
   "file_extension": ".py",
   "mimetype": "text/x-python",
   "name": "python",
   "nbconvert_exporter": "python",
   "pygments_lexer": "ipython3",
   "version": "3.8.5"
  }
 },
 "nbformat": 4,
 "nbformat_minor": 4
}
