{
 "cells": [
  {
   "cell_type": "markdown",
   "metadata": {},
   "source": [
    "# for loops : We know in advance, how many times loop needs to be run.  \n",
    "# while loops : loop runs until the condition is satisfying"
   ]
  },
  {
   "cell_type": "code",
   "execution_count": 4,
   "metadata": {},
   "outputs": [
    {
     "name": "stdout",
     "output_type": "stream",
     "text": [
      "Enter N :9\n",
      "1 2 3 4 5 6 7 8 9 "
     ]
    }
   ],
   "source": [
    "# Print 1:N using while loop\n",
    "\n",
    "N=int(input('Enter N :'))\n",
    "i=1                                    # iterator needs to be initilised first\n",
    "while i<=N :\n",
    "    print(i,end=' ')\n",
    "    i+=1                               # iterator needs to be modified otherwise infinite loop runs"
   ]
  },
  {
   "cell_type": "code",
   "execution_count": 12,
   "metadata": {},
   "outputs": [
    {
     "name": "stdout",
     "output_type": "stream",
     "text": [
      "150\n",
      "12000000\n"
     ]
    }
   ],
   "source": [
    "# a= [10,20,30,40,50]\n",
    "# sum = 150\n",
    "# product = 12000000          WAP to calculate sum & product using loops\n",
    "\n",
    "a= [10,20,30,40,50]\n",
    "i=0\n",
    "j=0\n",
    "summ=0\n",
    "prod=1\n",
    "while i < len(a):\n",
    "    summ+=a[i]\n",
    "    i+=1\n",
    "print(summ)\n",
    "\n",
    "while j < len(a):\n",
    "    prod*=a[j]\n",
    "    j+=1\n",
    "print(prod)"
   ]
  },
  {
   "cell_type": "code",
   "execution_count": 23,
   "metadata": {},
   "outputs": [
    {
     "name": "stdout",
     "output_type": "stream",
     "text": [
      "h\n",
      "ss\n",
      "iii\n",
      "hhhh\n",
      "sssss\n",
      "AAAAAA\n"
     ]
    }
   ],
   "source": [
    "my_str = 'Ashish'\n",
    "i=1\n",
    "while i<len(my_str)+1:\n",
    "    print(my_str[len(my_str)-i]*i)\n",
    "    i+=1"
   ]
  },
  {
   "cell_type": "code",
   "execution_count": 26,
   "metadata": {},
   "outputs": [
    {
     "name": "stdout",
     "output_type": "stream",
     "text": [
      "*\n",
      "**\n",
      "***\n",
      "****\n",
      "*****\n"
     ]
    }
   ],
   "source": [
    "i=1\n",
    "while i<=5:\n",
    "    print('*'*i)\n",
    "    i+=1"
   ]
  },
  {
   "cell_type": "code",
   "execution_count": 34,
   "metadata": {},
   "outputs": [
    {
     "name": "stdout",
     "output_type": "stream",
     "text": [
      "*****\n",
      "*****\n",
      "*****\n",
      "*****\n",
      "*****\n"
     ]
    }
   ],
   "source": [
    "for i in range(5):                         # 2_D Array\n",
    "    for j in range(5):\n",
    "        print('*',end='')\n",
    "    print()"
   ]
  },
  {
   "cell_type": "code",
   "execution_count": 1,
   "metadata": {},
   "outputs": [
    {
     "name": "stdout",
     "output_type": "stream",
     "text": [
      "pyth@n l@@ps\n"
     ]
    }
   ],
   "source": [
    "my_str = 'python loops'              # Method 1\n",
    "\n",
    "# replace 'o' with '@'\n",
    "\n",
    "print(my_str.replace('o','@'))"
   ]
  },
  {
   "cell_type": "code",
   "execution_count": 7,
   "metadata": {},
   "outputs": [
    {
     "name": "stdout",
     "output_type": "stream",
     "text": [
      "p\n",
      "py\n",
      "pyt\n",
      "pyth\n",
      "pyth@\n",
      "pyth@n\n",
      "pyth@n \n",
      "pyth@n l\n",
      "pyth@n l@\n",
      "pyth@n l@@\n",
      "pyth@n l@@p\n",
      "pyth@n l@@ps\n",
      "********************loop ends*********************\n",
      "pyth@n l@@ps\n"
     ]
    }
   ],
   "source": [
    "my_str = 'python loops'              # Method 2 using loops\n",
    "\n",
    "# replace 'o' with '@'\n",
    "\n",
    "new_str=''\n",
    "for i in my_str:\n",
    "    if i=='o':\n",
    "        new_str=new_str+'@'\n",
    "    else:\n",
    "        new_str=new_str+i\n",
    "    print(new_str)                   # printing inside loop helps you to see the changes happening in each loop\n",
    "print('loop ends'.center(50,'*'))\n",
    "print(new_str)"
   ]
  },
  {
   "cell_type": "markdown",
   "metadata": {},
   "source": [
    "## center() : it is a string method which prints string at center of given space"
   ]
  },
  {
   "cell_type": "code",
   "execution_count": 10,
   "metadata": {},
   "outputs": [
    {
     "name": "stdout",
     "output_type": "stream",
     "text": [
      "********************loop ends*********************\n"
     ]
    },
    {
     "data": {
      "text/plain": [
       "50"
      ]
     },
     "execution_count": 10,
     "metadata": {},
     "output_type": "execute_result"
    }
   ],
   "source": [
    "print('loop ends'.center(50,'*'))\n",
    "len('loop ends'.center(50,'*'))"
   ]
  },
  {
   "cell_type": "code",
   "execution_count": 14,
   "metadata": {},
   "outputs": [
    {
     "name": "stdout",
     "output_type": "stream",
     "text": [
      "ok\n",
      "ok\n",
      "ok\n",
      "ok\n",
      "ok\n",
      "ok\n",
      "ok\n",
      "not ok\n"
     ]
    }
   ],
   "source": [
    "# Str1 = 123572345678\n",
    "# Write a program to print\n",
    "# 'ok' if digit is not 4\n",
    "# 'not ok' if the digit is 4 and stops the program there only\n",
    "\n",
    "str1 = '123572345678'\n",
    "i=0\n",
    "while str1[i]!='4':\n",
    "    print('ok')\n",
    "    i+=1\n",
    "print('not ok')                   # This is only possible with while loop...Not with for loop"
   ]
  },
  {
   "cell_type": "markdown",
   "metadata": {},
   "source": [
    "#### continue : It sends the interpreter back to the point where loop starts without implementing the lines below \n",
    "#### break : it takes the interpreter out of the loop directly  \n",
    "\n",
    "#### continue ----> start of loop\n",
    "#### break ----> out of loop\n",
    "\n",
    "#### Position of break & continue is very important"
   ]
  },
  {
   "cell_type": "code",
   "execution_count": 17,
   "metadata": {},
   "outputs": [
    {
     "name": "stdout",
     "output_type": "stream",
     "text": [
      "1\n",
      "2\n",
      "4\n",
      "5\n",
      "7\n",
      "8\n"
     ]
    }
   ],
   "source": [
    "for i in range(1,10):\n",
    "    if i%3==0:\n",
    "        continue        # helps you to skip any operation in 'given iteration'\n",
    "    print(i)            # This line wont be interpreted when continue is hit"
   ]
  },
  {
   "cell_type": "code",
   "execution_count": 19,
   "metadata": {},
   "outputs": [
    {
     "name": "stdout",
     "output_type": "stream",
     "text": [
      "1\n",
      "2\n",
      "3\n",
      "4\n"
     ]
    }
   ],
   "source": [
    "for i in range(1,10):\n",
    "    if i%5==0:\n",
    "        break        # out of the loop\n",
    "    print(i)           "
   ]
  },
  {
   "cell_type": "code",
   "execution_count": 21,
   "metadata": {},
   "outputs": [
    {
     "name": "stdout",
     "output_type": "stream",
     "text": [
      "1\n",
      "2\n",
      "3\n",
      "4\n",
      "5\n",
      "6\n",
      "8\n",
      "9\n",
      "10\n"
     ]
    }
   ],
   "source": [
    "# WAP to print 1-10 except 7 using if-else          \n",
    "for i in range(1,11):\n",
    "    if i==7:\n",
    "        pass\n",
    "    else:\n",
    "        print(i)\n",
    "    "
   ]
  },
  {
   "cell_type": "code",
   "execution_count": 22,
   "metadata": {},
   "outputs": [
    {
     "name": "stdout",
     "output_type": "stream",
     "text": [
      "1\n",
      "2\n",
      "3\n",
      "4\n",
      "5\n",
      "6\n",
      "8\n",
      "9\n",
      "10\n"
     ]
    }
   ],
   "source": [
    "# WAP to print 1-10 except 7 using only if\n",
    "for i in range(1,11):\n",
    "    if i==7:\n",
    "        continue\n",
    "    print(i)\n",
    "    "
   ]
  },
  {
   "cell_type": "code",
   "execution_count": 39,
   "metadata": {},
   "outputs": [
    {
     "name": "stdout",
     "output_type": "stream",
     "text": [
      "Enter number 1-10 :'a'\n",
      "Not in range 1-10\n"
     ]
    }
   ],
   "source": [
    "# WAP to take input from user 1-10 and breaks the program immedietly if user enters something other than 1-10\n",
    "i=0\n",
    "while i>=0:\n",
    "    user_input =eval(input('Enter number 1-10 :'))\n",
    "    if user_input in range(1,11):\n",
    "        i+=1\n",
    "        continue\n",
    "    else:\n",
    "        print('Not in range 1-10')\n",
    "        break\n",
    "        \n"
   ]
  },
  {
   "cell_type": "code",
   "execution_count": 44,
   "metadata": {},
   "outputs": [
    {
     "name": "stdout",
     "output_type": "stream",
     "text": [
      "Enter integers: 5.6\n",
      "Invalid input 5.6\n"
     ]
    }
   ],
   "source": [
    "# WAP to take integer input from user and breaks the program immedietly if user enters something other than integer\n",
    "while True:\n",
    "    user_input =(input('Enter integers: '))\n",
    "    if user_input.isdigit():\n",
    "        pass\n",
    "    else:\n",
    "        print(f'Invalid input {user_input}')\n",
    "        break\n"
   ]
  },
  {
   "cell_type": "markdown",
   "metadata": {},
   "source": [
    "## In above two programs second one is more generalised as...\n",
    "## It is not throwing error when a is entered instead of 'a'.....Disadvantage if eval()  \n",
    "## It is working for all integers and not for 1-10 only...\n",
    "\n",
    "## isdigit() : String method to check If string contains only numbers..."
   ]
  },
  {
   "cell_type": "code",
   "execution_count": 53,
   "metadata": {},
   "outputs": [
    {
     "name": "stdout",
     "output_type": "stream",
     "text": [
      "Enter integers: 33\n",
      "Invalid input 33\n"
     ]
    }
   ],
   "source": [
    "# WAP to take input from user 1-10 and breaks the program immedietly if user enters something other than 1-10\n",
    "# Only integers allowed\n",
    "\n",
    "while True:\n",
    "    n =input('Enter integers 1-10: ')\n",
    "    if n.isdigit()==True:\n",
    "        if (int(n)>0 and int(n)<11):\n",
    "            continue\n",
    "        else:\n",
    "            print(f'Invalid input {n}')\n",
    "            break\n",
    "    else:\n",
    "        print(f'Invalid input {n}')\n",
    "        break\n",
    "    break\n",
    "    "
   ]
  },
  {
   "cell_type": "code",
   "execution_count": 1,
   "metadata": {},
   "outputs": [
    {
     "name": "stdout",
     "output_type": "stream",
     "text": [
      "Enter integers 1-10: 1...2\n",
      "Invalid input 1...2\n"
     ]
    }
   ],
   "source": [
    "# WAP to take input from user 1-10 and breaks the program immedietly if user enters something other than 1-10\n",
    "# Integers and float both allowed\n",
    "\n",
    "while True:\n",
    "    n =input('Enter integers 1-10: ')\n",
    "    a=n.replace('.','',1)                      # Replace only one '.' so that 1..2 is invalid\n",
    "    if a.isdigit():\n",
    "        if (eval(n)>=1 and eval(n)<=10):\n",
    "            continue\n",
    "        else:\n",
    "            print(f'Invalid input {n}')\n",
    "            break\n",
    "    else:\n",
    "        print(f'Invalid input {n}')\n",
    "        break\n",
    "\n",
    "        "
   ]
  },
  {
   "cell_type": "code",
   "execution_count": 84,
   "metadata": {},
   "outputs": [
    {
     "name": "stdout",
     "output_type": "stream",
     "text": [
      "120\n"
     ]
    }
   ],
   "source": [
    "#WAP to print sum of squares of all even numbers in agiven list\n",
    "a=[1,2,3,4,5,6,7,8,9]\n",
    "summ=0\n",
    "for i in a:\n",
    "    if i%2==0:\n",
    "        summ+=i**2\n",
    "print(summ)\n",
    "        "
   ]
  },
  {
   "cell_type": "code",
   "execution_count": 54,
   "metadata": {},
   "outputs": [
    {
     "name": "stdout",
     "output_type": "stream",
     "text": [
      "['__add__', '__class__', '__contains__', '__delattr__', '__dir__', '__doc__', '__eq__', '__format__', '__ge__', '__getattribute__', '__getitem__', '__getnewargs__', '__gt__', '__hash__', '__init__', '__init_subclass__', '__iter__', '__le__', '__len__', '__lt__', '__mod__', '__mul__', '__ne__', '__new__', '__reduce__', '__reduce_ex__', '__repr__', '__rmod__', '__rmul__', '__setattr__', '__sizeof__', '__str__', '__subclasshook__', 'capitalize', 'casefold', 'center', 'count', 'encode', 'endswith', 'expandtabs', 'find', 'format', 'format_map', 'index', 'isalnum', 'isalpha', 'isascii', 'isdecimal', 'isdigit', 'isidentifier', 'islower', 'isnumeric', 'isprintable', 'isspace', 'istitle', 'isupper', 'join', 'ljust', 'lower', 'lstrip', 'maketrans', 'partition', 'replace', 'rfind', 'rindex', 'rjust', 'rpartition', 'rsplit', 'rstrip', 'split', 'splitlines', 'startswith', 'strip', 'swapcase', 'title', 'translate', 'upper', 'zfill']\n"
     ]
    }
   ],
   "source": [
    "print(dir(str))"
   ]
  },
  {
   "cell_type": "code",
   "execution_count": 77,
   "metadata": {},
   "outputs": [
    {
     "data": {
      "text/plain": [
       "4.4"
      ]
     },
     "execution_count": 77,
     "metadata": {},
     "output_type": "execute_result"
    }
   ],
   "source": [
    "a='4.4'\n",
    "eval(a)\n"
   ]
  },
  {
   "cell_type": "code",
   "execution_count": null,
   "metadata": {},
   "outputs": [],
   "source": []
  }
 ],
 "metadata": {
  "kernelspec": {
   "display_name": "Python 3",
   "language": "python",
   "name": "python3"
  },
  "language_info": {
   "codemirror_mode": {
    "name": "ipython",
    "version": 3
   },
   "file_extension": ".py",
   "mimetype": "text/x-python",
   "name": "python",
   "nbconvert_exporter": "python",
   "pygments_lexer": "ipython3",
   "version": "3.8.5"
  }
 },
 "nbformat": 4,
 "nbformat_minor": 4
}
